{
 "cells": [
  {
   "cell_type": "code",
   "execution_count": 4,
   "outputs": [],
   "source": [
    "import json\n",
    "import pandas as pd"
   ],
   "metadata": {
    "collapsed": false,
    "pycharm": {
     "name": "#%%\n"
    }
   }
  },
  {
   "cell_type": "code",
   "execution_count": 6,
   "outputs": [],
   "source": [
    "with open(r\"A:\\huan_shit\\learning_scrapy\\john_youtube\\whiskyscraper\\whiskyscraper\\whishkey_full.json\", 'r') as f:\n",
    "    data = json.load(f)"
   ],
   "metadata": {
    "collapsed": false,
    "pycharm": {
     "name": "#%%\n"
    }
   }
  },
  {
   "cell_type": "code",
   "execution_count": 7,
   "outputs": [
    {
     "data": {
      "text/plain": "                                                   name       price  \\\n0     Glen Grant 1952 Platinum Jubilee 70 Year Old #381  £20,000.00   \n1                               Glenfiddich 21 Year Old     £150.00   \n2             Caisteal Chamuis Blended Malt 12 Year Old      £54.95   \n3                              Kilchoman Loch Gorm 2022      £78.00   \n4     The Octave Aultmore 2008 13 Year Old TWS Edinb...     £125.00   \n...                                                 ...         ...   \n1742                                     Ailsa Bay 70cl        None   \n1743             Brora 35 year old 2014 Special Release        None   \n1744                           Ballantine's 17 Year Old      £72.00   \n1745                               Aultmore 12 Year Old        None   \n1746                              Aberfeldy 12 Year Old        None   \n\n                                                   link  \n0     https://www.whiskyshop.com/glen-grant-1952-pla...  \n1     https://www.whiskyshop.com/glenfiddich-21-year...  \n2     https://www.whiskyshop.com/caisteal-chamuis-bl...  \n3     https://www.whiskyshop.com/kilchoman-loch-gorm...  \n4     https://www.whiskyshop.com/the-octave-aultmore...  \n...                                                 ...  \n1742               https://www.whiskyshop.com/ailsa-bay  \n1743       https://www.whiskyshop.com/brora-35-year-old  \n1744  https://www.whiskyshop.com/ballantines-17-year...  \n1745    https://www.whiskyshop.com/aultmore-12-year-old  \n1746   https://www.whiskyshop.com/aberfeldy-12-year-old  \n\n[1747 rows x 3 columns]",
      "text/html": "<div>\n<style scoped>\n    .dataframe tbody tr th:only-of-type {\n        vertical-align: middle;\n    }\n\n    .dataframe tbody tr th {\n        vertical-align: top;\n    }\n\n    .dataframe thead th {\n        text-align: right;\n    }\n</style>\n<table border=\"1\" class=\"dataframe\">\n  <thead>\n    <tr style=\"text-align: right;\">\n      <th></th>\n      <th>name</th>\n      <th>price</th>\n      <th>link</th>\n    </tr>\n  </thead>\n  <tbody>\n    <tr>\n      <th>0</th>\n      <td>Glen Grant 1952 Platinum Jubilee 70 Year Old #381</td>\n      <td>£20,000.00</td>\n      <td>https://www.whiskyshop.com/glen-grant-1952-pla...</td>\n    </tr>\n    <tr>\n      <th>1</th>\n      <td>Glenfiddich 21 Year Old</td>\n      <td>£150.00</td>\n      <td>https://www.whiskyshop.com/glenfiddich-21-year...</td>\n    </tr>\n    <tr>\n      <th>2</th>\n      <td>Caisteal Chamuis Blended Malt 12 Year Old</td>\n      <td>£54.95</td>\n      <td>https://www.whiskyshop.com/caisteal-chamuis-bl...</td>\n    </tr>\n    <tr>\n      <th>3</th>\n      <td>Kilchoman Loch Gorm 2022</td>\n      <td>£78.00</td>\n      <td>https://www.whiskyshop.com/kilchoman-loch-gorm...</td>\n    </tr>\n    <tr>\n      <th>4</th>\n      <td>The Octave Aultmore 2008 13 Year Old TWS Edinb...</td>\n      <td>£125.00</td>\n      <td>https://www.whiskyshop.com/the-octave-aultmore...</td>\n    </tr>\n    <tr>\n      <th>...</th>\n      <td>...</td>\n      <td>...</td>\n      <td>...</td>\n    </tr>\n    <tr>\n      <th>1742</th>\n      <td>Ailsa Bay 70cl</td>\n      <td>None</td>\n      <td>https://www.whiskyshop.com/ailsa-bay</td>\n    </tr>\n    <tr>\n      <th>1743</th>\n      <td>Brora 35 year old 2014 Special Release</td>\n      <td>None</td>\n      <td>https://www.whiskyshop.com/brora-35-year-old</td>\n    </tr>\n    <tr>\n      <th>1744</th>\n      <td>Ballantine's 17 Year Old</td>\n      <td>£72.00</td>\n      <td>https://www.whiskyshop.com/ballantines-17-year...</td>\n    </tr>\n    <tr>\n      <th>1745</th>\n      <td>Aultmore 12 Year Old</td>\n      <td>None</td>\n      <td>https://www.whiskyshop.com/aultmore-12-year-old</td>\n    </tr>\n    <tr>\n      <th>1746</th>\n      <td>Aberfeldy 12 Year Old</td>\n      <td>None</td>\n      <td>https://www.whiskyshop.com/aberfeldy-12-year-old</td>\n    </tr>\n  </tbody>\n</table>\n<p>1747 rows × 3 columns</p>\n</div>"
     },
     "execution_count": 7,
     "metadata": {},
     "output_type": "execute_result"
    }
   ],
   "source": [
    "pd.DataFrame(data)"
   ],
   "metadata": {
    "collapsed": false,
    "pycharm": {
     "name": "#%%\n"
    }
   }
  },
  {
   "cell_type": "code",
   "execution_count": null,
   "outputs": [],
   "source": [],
   "metadata": {
    "collapsed": false,
    "pycharm": {
     "name": "#%%\n"
    }
   }
  }
 ],
 "metadata": {
  "kernelspec": {
   "display_name": "Python 3",
   "language": "python",
   "name": "python3"
  },
  "language_info": {
   "codemirror_mode": {
    "name": "ipython",
    "version": 2
   },
   "file_extension": ".py",
   "mimetype": "text/x-python",
   "name": "python",
   "nbconvert_exporter": "python",
   "pygments_lexer": "ipython2",
   "version": "2.7.6"
  }
 },
 "nbformat": 4,
 "nbformat_minor": 0
}